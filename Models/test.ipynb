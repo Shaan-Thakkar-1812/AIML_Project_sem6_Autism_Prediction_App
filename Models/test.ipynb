{
 "cells": [
  {
   "cell_type": "code",
   "execution_count": 2,
   "id": "d7477c68",
   "metadata": {},
   "outputs": [
    {
     "name": "stdout",
     "output_type": "stream",
     "text": [
      "Prediction: [0]\n",
      "Probability: [[0.9 0.1]]\n"
     ]
    }
   ],
   "source": [
    "import pickle\n",
    "import pandas as pd\n",
    "\n",
    "with open(\"C:/Users/shaan/Autism_Predictor_App/Models/best_model.pkl\", \"rb\") as f:\n",
    "    model = pickle.load(f)\n",
    "\n",
    "sample_input = {\n",
    "    \"A1_Score\": 1, \"A2_Score\": 1, \"A3_Score\": 0, \"A4_Score\": 0, \"A5_Score\": 1,\n",
    "    \"A6_Score\": 0, \"A7_Score\": 1, \"A8_Score\": 1, \"A9_Score\": 0, \"A10_Score\": 1,\n",
    "    \"age\": 10,\n",
    "    \"gender\": 1,\n",
    "    \"jaundice\": 1,\n",
    "    \"family_mem_with_ASD\": 1,\n",
    "    \"ethnicity_Asian\": 1,\n",
    "    \"country_of_res_United States\": 1,\n",
    "    \"used_app_before\": 1,\n",
    "    \"relation_Parent\": 1\n",
    "}\n",
    "\n",
    "# Fill missing columns\n",
    "df = pd.DataFrame([sample_input])\n",
    "for col in model.feature_names_in_:\n",
    "    if col not in df.columns:\n",
    "        df[col] = 0\n",
    "df = df[model.feature_names_in_]\n",
    "\n",
    "print(\"Prediction:\", model.predict(df))\n",
    "print(\"Probability:\", model.predict_proba(df))\n"
   ]
  },
  {
   "cell_type": "code",
   "execution_count": null,
   "id": "c95b29f0",
   "metadata": {},
   "outputs": [],
   "source": []
  }
 ],
 "metadata": {
  "kernelspec": {
   "display_name": "base",
   "language": "python",
   "name": "python3"
  },
  "language_info": {
   "codemirror_mode": {
    "name": "ipython",
    "version": 3
   },
   "file_extension": ".py",
   "mimetype": "text/x-python",
   "name": "python",
   "nbconvert_exporter": "python",
   "pygments_lexer": "ipython3",
   "version": "3.12.4"
  }
 },
 "nbformat": 4,
 "nbformat_minor": 5
}
